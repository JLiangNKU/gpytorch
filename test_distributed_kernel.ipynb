{
 "cells": [
  {
   "cell_type": "code",
   "execution_count": 1,
   "metadata": {},
   "outputs": [],
   "source": [
    "import gpytorch, torch\n",
    "from gpytorch.kernels import RBFKernel, DistributedKernel"
   ]
  },
  {
   "cell_type": "code",
   "execution_count": 2,
   "metadata": {},
   "outputs": [],
   "source": [
    "kernel = DistributedKernel(RBFKernel(), [\"cuda:0\"])"
   ]
  },
  {
   "cell_type": "code",
   "execution_count": 3,
   "metadata": {},
   "outputs": [],
   "source": [
    "x1 = torch.randn(7,2)\n",
    "x2 = torch.randn(3,2)"
   ]
  },
  {
   "cell_type": "code",
   "execution_count": 4,
   "metadata": {},
   "outputs": [
    {
     "data": {
      "text/plain": [
       "tensor([[7.6487e-01, 6.4766e-03, 2.6651e-02],\n",
       "        [1.4009e-02, 5.6460e-02, 9.2814e-05],\n",
       "        [8.2077e-01, 1.6358e-04, 1.7804e-02],\n",
       "        [9.6708e-01, 5.9510e-04, 4.4523e-03],\n",
       "        [4.7973e-01, 9.5836e-05, 1.2396e-04],\n",
       "        [5.4961e-01, 1.3733e-02, 9.6057e-03],\n",
       "        [1.6862e-01, 9.6157e-02, 9.9635e-03]], device='cuda:0',\n",
       "       grad_fn=<Matmul>)"
      ]
     },
     "execution_count": 4,
     "metadata": {},
     "output_type": "execute_result"
    }
   ],
   "source": [
    "kernel(x1, x2).evaluate()"
   ]
  },
  {
   "cell_type": "code",
   "execution_count": 5,
   "metadata": {},
   "outputs": [
    {
     "data": {
      "text/plain": [
       "tensor([[7.6487e-01, 6.4766e-03, 2.6651e-02],\n",
       "        [1.4009e-02, 5.6460e-02, 9.2814e-05],\n",
       "        [8.2077e-01, 1.6358e-04, 1.7804e-02],\n",
       "        [9.6708e-01, 5.9510e-04, 4.4523e-03],\n",
       "        [4.7973e-01, 9.5836e-05, 1.2396e-04],\n",
       "        [5.4961e-01, 1.3733e-02, 9.6057e-03],\n",
       "        [1.6862e-01, 9.6157e-02, 9.9635e-03]], grad_fn=<SelectBackward>)"
      ]
     },
     "execution_count": 5,
     "metadata": {},
     "output_type": "execute_result"
    }
   ],
   "source": [
    "RBFKernel()(x1, x2).evaluate()"
   ]
  },
  {
   "cell_type": "code",
   "execution_count": null,
   "metadata": {},
   "outputs": [],
   "source": []
  }
 ],
 "metadata": {
  "kernelspec": {
   "display_name": "Python 3",
   "language": "python",
   "name": "python3"
  },
  "language_info": {
   "codemirror_mode": {
    "name": "ipython",
    "version": 3
   },
   "file_extension": ".py",
   "mimetype": "text/x-python",
   "name": "python",
   "nbconvert_exporter": "python",
   "pygments_lexer": "ipython3",
   "version": "3.6.7"
  }
 },
 "nbformat": 4,
 "nbformat_minor": 2
}
