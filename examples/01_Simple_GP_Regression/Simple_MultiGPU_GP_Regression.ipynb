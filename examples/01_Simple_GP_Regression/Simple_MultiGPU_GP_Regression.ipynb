{
 "cells": [
  {
   "cell_type": "code",
   "execution_count": 1,
   "metadata": {
    "scrolled": true
   },
   "outputs": [],
   "source": [
    "import math\n",
    "import torch\n",
    "import gpytorch\n",
    "from matplotlib import pyplot as plt\n",
    "\n",
    "%matplotlib inline\n",
    "%load_ext autoreload\n",
    "%autoreload 2"
   ]
  },
  {
   "cell_type": "code",
   "execution_count": 2,
   "metadata": {},
   "outputs": [],
   "source": [
    "# Training data is 11 points in [0,1] inclusive regularly spaced\n",
    "train_x = torch.linspace(0, 1, 100)\n",
    "# True function is sin(2*pi*x) with Gaussian noise\n",
    "train_y = torch.sin(train_x * (2 * math.pi)) + torch.randn(train_x.size()) * 0.2\n",
    "\n",
    "train_x = train_x.cuda()\n",
    "train_y = train_y.cuda()"
   ]
  },
  {
   "cell_type": "code",
   "execution_count": 10,
   "metadata": {},
   "outputs": [],
   "source": [
    "# We will use the simplest form of GP model, exact inference\n",
    "class ExactGPModel(gpytorch.models.ExactGP):\n",
    "    def __init__(self, train_x, train_y, likelihood):\n",
    "        super(ExactGPModel, self).__init__(train_x, train_y, likelihood)\n",
    "        self.mean_module = gpytorch.means.ConstantMean()\n",
    "        base_covar_module = gpytorch.kernels.ScaleKernel(gpytorch.kernels.RBFKernel())\n",
    "        \n",
    "        devices = [0, 1]\n",
    "        \n",
    "        self.covar_module = gpytorch.kernels.MultiDeviceKernel(base_covar_module, device_ids=devices, output_device=torch.device('cuda', 0))\n",
    "    \n",
    "    def forward(self, x):\n",
    "        mean_x = self.mean_module(x)\n",
    "        covar_x = self.covar_module(x)\n",
    "        return gpytorch.distributions.MultivariateNormal(mean_x, covar_x)\n",
    "\n",
    "likelihood = gpytorch.likelihoods.GaussianLikelihood().to(\"cuda:0\")\n",
    "model = ExactGPModel(train_x, train_y, likelihood).to(\"cuda:0\")\n"
   ]
  },
  {
   "cell_type": "code",
   "execution_count": 4,
   "metadata": {
    "scrolled": false
   },
   "outputs": [
    {
     "name": "stderr",
     "output_type": "stream",
     "text": [
      "/home/jrg365/gpytorch/gpytorch/utils/pivoted_cholesky.py:103: UserWarning: torch.potrs is deprecated in favour of torch.cholesky_solve and will be removed in the next release. Please use torch.cholesky instead and note that the :attr:`upper` argument in torch.cholesky_solve defaults to ``False``.\n",
      "  R = torch.potrs(low_rank_mat, torch.cholesky(shifted_mat, upper=True))\n"
     ]
    },
    {
     "name": "stdout",
     "output_type": "stream",
     "text": [
      "Iter 1/50 - Loss: 0.937   log_lengthscale: -0.367   log_noise: -0.367\n",
      "Iter 2/50 - Loss: 0.906   log_lengthscale: -0.439   log_noise: -0.439\n",
      "Iter 3/50 - Loss: 0.873   log_lengthscale: -0.513   log_noise: -0.514\n",
      "Iter 4/50 - Loss: 0.836   log_lengthscale: -0.589   log_noise: -0.590\n",
      "Iter 5/50 - Loss: 0.794   log_lengthscale: -0.666   log_noise: -0.668\n",
      "Iter 6/50 - Loss: 0.748   log_lengthscale: -0.744   log_noise: -0.747\n",
      "Iter 7/50 - Loss: 0.699   log_lengthscale: -0.823   log_noise: -0.828\n",
      "Iter 8/50 - Loss: 0.649   log_lengthscale: -0.905   log_noise: -0.911\n",
      "Iter 9/50 - Loss: 0.601   log_lengthscale: -0.989   log_noise: -0.996\n",
      "Iter 10/50 - Loss: 0.557   log_lengthscale: -1.072   log_noise: -1.082\n",
      "Iter 11/50 - Loss: 0.518   log_lengthscale: -1.153   log_noise: -1.169\n",
      "Iter 12/50 - Loss: 0.483   log_lengthscale: -1.230   log_noise: -1.258\n",
      "Iter 13/50 - Loss: 0.447   log_lengthscale: -1.300   log_noise: -1.349\n",
      "Iter 14/50 - Loss: 0.413   log_lengthscale: -1.360   log_noise: -1.440\n",
      "Iter 15/50 - Loss: 0.387   log_lengthscale: -1.412   log_noise: -1.532\n",
      "Iter 16/50 - Loss: 0.350   log_lengthscale: -1.449   log_noise: -1.625\n",
      "Iter 17/50 - Loss: 0.321   log_lengthscale: -1.477   log_noise: -1.719\n",
      "Iter 18/50 - Loss: 0.297   log_lengthscale: -1.499   log_noise: -1.813\n",
      "Iter 19/50 - Loss: 0.257   log_lengthscale: -1.510   log_noise: -1.908\n",
      "Iter 20/50 - Loss: 0.243   log_lengthscale: -1.513   log_noise: -2.002\n",
      "Iter 21/50 - Loss: 0.208   log_lengthscale: -1.506   log_noise: -2.096\n",
      "Iter 22/50 - Loss: 0.178   log_lengthscale: -1.491   log_noise: -2.190\n",
      "Iter 23/50 - Loss: 0.154   log_lengthscale: -1.468   log_noise: -2.283\n",
      "Iter 24/50 - Loss: 0.137   log_lengthscale: -1.444   log_noise: -2.375\n",
      "Iter 25/50 - Loss: 0.113   log_lengthscale: -1.413   log_noise: -2.465\n",
      "Iter 26/50 - Loss: 0.088   log_lengthscale: -1.376   log_noise: -2.554\n",
      "Iter 27/50 - Loss: 0.074   log_lengthscale: -1.338   log_noise: -2.640\n",
      "Iter 28/50 - Loss: 0.068   log_lengthscale: -1.302   log_noise: -2.723\n",
      "Iter 29/50 - Loss: 0.054   log_lengthscale: -1.263   log_noise: -2.803\n",
      "Iter 30/50 - Loss: 0.047   log_lengthscale: -1.225   log_noise: -2.879\n",
      "Iter 31/50 - Loss: 0.043   log_lengthscale: -1.190   log_noise: -2.950\n",
      "Iter 32/50 - Loss: 0.045   log_lengthscale: -1.162   log_noise: -3.016\n",
      "Iter 33/50 - Loss: 0.048   log_lengthscale: -1.139   log_noise: -3.077\n",
      "Iter 34/50 - Loss: 0.052   log_lengthscale: -1.124   log_noise: -3.130\n",
      "Iter 35/50 - Loss: 0.057   log_lengthscale: -1.117   log_noise: -3.177\n",
      "Iter 36/50 - Loss: 0.060   log_lengthscale: -1.114   log_noise: -3.216\n",
      "Iter 37/50 - Loss: 0.062   log_lengthscale: -1.121   log_noise: -3.247\n",
      "Iter 38/50 - Loss: 0.065   log_lengthscale: -1.135   log_noise: -3.270\n",
      "Iter 39/50 - Loss: 0.068   log_lengthscale: -1.155   log_noise: -3.285\n",
      "Iter 40/50 - Loss: 0.065   log_lengthscale: -1.182   log_noise: -3.293\n",
      "Iter 41/50 - Loss: 0.066   log_lengthscale: -1.210   log_noise: -3.294\n",
      "Iter 42/50 - Loss: 0.063   log_lengthscale: -1.237   log_noise: -3.289\n",
      "Iter 43/50 - Loss: 0.061   log_lengthscale: -1.264   log_noise: -3.277\n",
      "Iter 44/50 - Loss: 0.058   log_lengthscale: -1.290   log_noise: -3.261\n",
      "Iter 45/50 - Loss: 0.057   log_lengthscale: -1.309   log_noise: -3.240\n",
      "Iter 46/50 - Loss: 0.054   log_lengthscale: -1.326   log_noise: -3.216\n",
      "Iter 47/50 - Loss: 0.057   log_lengthscale: -1.340   log_noise: -3.190\n",
      "Iter 48/50 - Loss: 0.051   log_lengthscale: -1.347   log_noise: -3.162\n",
      "Iter 49/50 - Loss: 0.052   log_lengthscale: -1.351   log_noise: -3.133\n",
      "Iter 50/50 - Loss: 0.047   log_lengthscale: -1.349   log_noise: -3.104\n"
     ]
    }
   ],
   "source": [
    "# Find optimal model hyperparameters\n",
    "model.train()\n",
    "likelihood.train()\n",
    "\n",
    "# Use the adam optimizer\n",
    "optimizer = torch.optim.Adam([\n",
    "    {'params': model.parameters()},  # Includes GaussianLikelihood parameters\n",
    "], lr=0.1)\n",
    "\n",
    "# \"Loss\" for GPs - the marginal log likelihood\n",
    "mll = gpytorch.mlls.ExactMarginalLogLikelihood(likelihood, model)\n",
    "\n",
    "with gpytorch.settings.max_preconditioner_size(5):\n",
    "    training_iter = 50\n",
    "    for i in range(training_iter):\n",
    "        # Zero gradients from previous iteration\n",
    "        optimizer.zero_grad()\n",
    "        # Output from model\n",
    "        output = model(train_x)\n",
    "        # Calc loss and backprop gradients\n",
    "        loss = -mll(output, train_y)\n",
    "        loss.backward()\n",
    "        print('Iter %d/%d - Loss: %.3f   log_lengthscale: %.3f   log_noise: %.3f' % (\n",
    "            i + 1, training_iter, loss.item(),\n",
    "            model.covar_module.module.base_kernel.log_lengthscale.item(),\n",
    "            model.likelihood.log_noise.item()\n",
    "        ))\n",
    "        optimizer.step()"
   ]
  },
  {
   "cell_type": "code",
   "execution_count": 5,
   "metadata": {},
   "outputs": [
    {
     "name": "stderr",
     "output_type": "stream",
     "text": [
      "/home/jrg365/gpytorch/gpytorch/utils/pivoted_cholesky.py:103: UserWarning: torch.potrs is deprecated in favour of torch.cholesky_solve and will be removed in the next release. Please use torch.cholesky instead and note that the :attr:`upper` argument in torch.cholesky_solve defaults to ``False``.\n",
      "  R = torch.potrs(low_rank_mat, torch.cholesky(shifted_mat, upper=True))\n"
     ]
    }
   ],
   "source": [
    "# Get into evaluation (predictive posterior) mode\n",
    "model.eval()\n",
    "likelihood.eval()\n",
    "\n",
    "# Test points are regularly spaced along [0,1]\n",
    "# Make predictions by feeding model through likelihood\n",
    "with torch.no_grad(), gpytorch.settings.fast_pred_var():\n",
    "    test_x = torch.linspace(0, 1, 51)\n",
    "    observed_pred = model(test_x)\n",
    "    observed_pred = likelihood(observed_pred)"
   ]
  },
  {
   "cell_type": "code",
   "execution_count": 6,
   "metadata": {
    "scrolled": false
   },
   "outputs": [
    {
     "data": {
      "image/png": "[encoded data removed]",
      "text/plain": [
       "<Figure size 288x216 with 1 Axes>"
      ]
     },
     "metadata": {
      "needs_background": "light"
     },
     "output_type": "display_data"
    }
   ],
   "source": [
    "with torch.no_grad():\n",
    "    # Initialize plot\n",
    "    f, ax = plt.subplots(1, 1, figsize=(4, 3))\n",
    "\n",
    "    # Get upper and lower confidence bounds\n",
    "    lower, upper = observed_pred.confidence_region()\n",
    "    # Plot training data as black stars\n",
    "    ax.plot(train_x.cpu().numpy(), train_y.cpu().numpy(), 'k*')\n",
    "    # Plot predictive means as blue line\n",
    "    ax.plot(test_x.cpu().numpy(), observed_pred.mean.cpu().numpy(), 'b')\n",
    "    # Shade between the lower and upper confidence bounds\n",
    "    ax.fill_between(test_x.squeeze().cpu().numpy(), lower.cpu().numpy(), upper.cpu().numpy(), alpha=0.5)\n",
    "    ax.set_ylim([-3, 3])\n",
    "    ax.legend(['Observed Data', 'Mean', 'Confidence'])\n",
    "    plt.savefig('res.pdf')"
   ]
  }
 ],
 "metadata": {
  "anaconda-cloud": {},
  "kernelspec": {
   "display_name": "Python 3",
   "language": "python",
   "name": "python3"
  },
  "language_info": {
   "codemirror_mode": {
    "name": "ipython",
    "version": 3
   },
   "file_extension": ".py",
   "mimetype": "text/x-python",
   "name": "python",
   "nbconvert_exporter": "python",
   "pygments_lexer": "ipython3",
   "version": "3.6.5"
  }
 },
 "nbformat": 4,
 "nbformat_minor": 1
}
